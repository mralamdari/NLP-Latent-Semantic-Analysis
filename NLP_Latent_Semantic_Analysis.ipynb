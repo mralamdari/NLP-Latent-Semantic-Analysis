{
  "nbformat": 4,
  "nbformat_minor": 0,
  "metadata": {
    "colab": {
      "name": "NLP-Latent-Semantic-Analysis.ipynb",
      "provenance": [],
      "collapsed_sections": [],
      "authorship_tag": "ABX9TyP4vMAMCBQ8OaJfDItU48iV",
      "include_colab_link": true
    },
    "kernelspec": {
      "name": "python3",
      "display_name": "Python 3"
    },
    "language_info": {
      "name": "python"
    }
  },
  "cells": [
    {
      "cell_type": "markdown",
      "metadata": {
        "id": "view-in-github",
        "colab_type": "text"
      },
      "source": [
        "<a href=\"https://colab.research.google.com/github/mralamdari/NLP-Latent-Semantic-Analysis/blob/main/NLP_Latent_Semantic_Analysis.ipynb\" target=\"_parent\"><img src=\"https://colab.research.google.com/assets/colab-badge.svg\" alt=\"Open In Colab\"/></a>"
      ]
    },
    {
      "cell_type": "code",
      "execution_count": 1,
      "metadata": {
        "id": "tkUdvsEeKpFk"
      },
      "outputs": [],
      "source": [
        "import nltk\n",
        "import numpy as np\n",
        "import matplotlib.pyplot as plt\n",
        "from sklearn import decomposition"
      ]
    },
    {
      "cell_type": "code",
      "source": [
        "wordnet_lemmatizer = nltk.stem.WordNetLemmatizer()"
      ],
      "metadata": {
        "id": "FevGE80IK7Na"
      },
      "execution_count": 2,
      "outputs": []
    },
    {
      "cell_type": "code",
      "source": [
        "!wget https://raw.githubusercontent.com/lazyprogrammer/machine_learning_examples/master/nlp_class/all_book_titles.txt"
      ],
      "metadata": {
        "colab": {
          "base_uri": "https://localhost:8080/"
        },
        "id": "ZE24hTVwL5xs",
        "outputId": "53592984-5fa4-4ac6-f6e1-a40922a25ff3"
      },
      "execution_count": 6,
      "outputs": [
        {
          "output_type": "stream",
          "name": "stdout",
          "text": [
            "--2022-05-10 08:57:18--  https://raw.githubusercontent.com/lazyprogrammer/machine_learning_examples/master/nlp_class/all_book_titles.txt\n",
            "Resolving raw.githubusercontent.com (raw.githubusercontent.com)... 185.199.108.133, 185.199.109.133, 185.199.110.133, ...\n",
            "Connecting to raw.githubusercontent.com (raw.githubusercontent.com)|185.199.108.133|:443... connected.\n",
            "HTTP request sent, awaiting response... 200 OK\n",
            "Length: 127992 (125K) [text/plain]\n",
            "Saving to: ‘all_book_titles.txt’\n",
            "\n",
            "\rall_book_titles.txt   0%[                    ]       0  --.-KB/s               \rall_book_titles.txt 100%[===================>] 124.99K  --.-KB/s    in 0.008s  \n",
            "\n",
            "2022-05-10 08:57:18 (15.5 MB/s) - ‘all_book_titles.txt’ saved [127992/127992]\n",
            "\n"
          ]
        }
      ]
    },
    {
      "cell_type": "code",
      "source": [
        "titles = []\n",
        "with open('all_book_titles.txt', 'r+') as f:\n",
        "  for line in f:\n",
        "    titles.append(line.rstrip())"
      ],
      "metadata": {
        "id": "bGrACDE2MAXA"
      },
      "execution_count": 10,
      "outputs": []
    },
    {
      "cell_type": "code",
      "source": [
        "titles[:20]"
      ],
      "metadata": {
        "colab": {
          "base_uri": "https://localhost:8080/"
        },
        "id": "2__ZVPeiMkYK",
        "outputId": "76759a96-5c01-4d30-ef2b-34fc97a410c9"
      },
      "execution_count": 12,
      "outputs": [
        {
          "output_type": "execute_result",
          "data": {
            "text/plain": [
              "['Philosophy of Sex and Love A Reader',\n",
              " 'Readings in Judaism, Christianity, and Islam',\n",
              " 'Microprocessors Principles and Applications',\n",
              " 'Bernhard Edouard Fernow: Story of North American Forestry',\n",
              " 'Encyclopedia of Buddhism',\n",
              " 'Motorola Microprocessor Family: 68000, 68008, 68010, 68020, 68030, and 68040, Programming and Interfacing with Applications',\n",
              " 'American Anthem: Student Edition Modern Era 2007',\n",
              " 'How to Read Literature Like a Professor A Lively and Entertaining Guide to Reading Between the Lines',\n",
              " 'Men Are from Mars, Women Are from Venus Secrets of Great Sex, Improving Communication, Lasting Intimacy and Fulfillment, Giving and Receiving Love, Secrets of Passion, Understanding Martian',\n",
              " 'Religious Traditions of the World A Journey Through Africa, Mesoamerica, North America, Judaism, Christianity, Islam, Hinduism, Buddhism, China, an',\n",
              " \"World's Wisdom Sacred Texts of the World's Religions\",\n",
              " \"Illustrated World's Religions A Guide to Our Wisdom Traditions\",\n",
              " 'Soul of Sex Cultivating Life As an Act of Love',\n",
              " 'Thriving on Chaos Handbook for a Management Revolution',\n",
              " 'Blood Relatives',\n",
              " \"Wheelock's Latin\",\n",
              " 'Great by Choice : Uncertainty, Chaos and Luck--Why Some Thrive Despite Them All',\n",
              " 'Expanding Discourse Feminism and Art History',\n",
              " 'Introduction to General Relativity (Pure & Applied Physics)',\n",
              " 'Experiments in Microprocessors and Interfacing: Programming and Hardware']"
            ]
          },
          "metadata": {},
          "execution_count": 12
        }
      ]
    },
    {
      "cell_type": "code",
      "source": [
        "nltk.download('stopwords')\n",
        "stopwords = nltk.corpus.stopwords.words('english')\n",
        "stopwords = stopwords + ['introduction', 'edition', 'series', 'application',\n",
        "    'approach', 'card', 'access', 'package', 'plus', 'etext',\n",
        "    'brief', 'vol', 'fundamental', 'guide', 'essential', 'printed',\n",
        "    'third', 'second', 'fourth']"
      ],
      "metadata": {
        "colab": {
          "base_uri": "https://localhost:8080/"
        },
        "id": "NwvIW8wvLRWu",
        "outputId": "e4f40b37-7963-44a1-f2b9-f78e21a96995"
      },
      "execution_count": 16,
      "outputs": [
        {
          "output_type": "stream",
          "name": "stdout",
          "text": [
            "[nltk_data] Downloading package stopwords to /root/nltk_data...\n",
            "[nltk_data]   Package stopwords is already up-to-date!\n"
          ]
        }
      ]
    },
    {
      "cell_type": "code",
      "source": [
        "stopwords[:20]"
      ],
      "metadata": {
        "colab": {
          "base_uri": "https://localhost:8080/"
        },
        "id": "hEtgIwRfLluU",
        "outputId": "6e75995f-de5f-4bae-e820-1d1b118e7b17"
      },
      "execution_count": 17,
      "outputs": [
        {
          "output_type": "execute_result",
          "data": {
            "text/plain": [
              "['i',\n",
              " 'me',\n",
              " 'my',\n",
              " 'myself',\n",
              " 'we',\n",
              " 'our',\n",
              " 'ours',\n",
              " 'ourselves',\n",
              " 'you',\n",
              " \"you're\",\n",
              " \"you've\",\n",
              " \"you'll\",\n",
              " \"you'd\",\n",
              " 'your',\n",
              " 'yours',\n",
              " 'yourself',\n",
              " 'yourselves',\n",
              " 'he',\n",
              " 'him',\n",
              " 'his']"
            ]
          },
          "metadata": {},
          "execution_count": 17
        }
      ]
    },
    {
      "cell_type": "code",
      "source": [
        ""
      ],
      "metadata": {
        "id": "-_jZrvxYLpnf"
      },
      "execution_count": 15,
      "outputs": []
    },
    {
      "cell_type": "code",
      "source": [
        ""
      ],
      "metadata": {
        "id": "tfrneLDfN2Ni"
      },
      "execution_count": null,
      "outputs": []
    }
  ]
}