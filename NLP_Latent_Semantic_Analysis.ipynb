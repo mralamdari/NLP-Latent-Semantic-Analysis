{
  "nbformat": 4,
  "nbformat_minor": 0,
  "metadata": {
    "colab": {
      "name": "NLP-Latent-Semantic-Analysis.ipynb",
      "provenance": [],
      "collapsed_sections": [],
      "authorship_tag": "ABX9TyNQfzYdGb699h+DHZhIQjj/",
      "include_colab_link": true
    },
    "kernelspec": {
      "name": "python3",
      "display_name": "Python 3"
    },
    "language_info": {
      "name": "python"
    }
  },
  "cells": [
    {
      "cell_type": "markdown",
      "metadata": {
        "id": "view-in-github",
        "colab_type": "text"
      },
      "source": [
        "<a href=\"https://colab.research.google.com/github/mralamdari/NLP-Latent-Semantic-Analysis/blob/main/NLP_Latent_Semantic_Analysis.ipynb\" target=\"_parent\"><img src=\"https://colab.research.google.com/assets/colab-badge.svg\" alt=\"Open In Colab\"/></a>"
      ]
    },
    {
      "cell_type": "code",
      "execution_count": 1,
      "metadata": {
        "id": "tkUdvsEeKpFk"
      },
      "outputs": [],
      "source": [
        "import nltk\n",
        "import numpy as np\n",
        "import matplotlib.pyplot as plt\n",
        "from sklearn import decomposition"
      ]
    },
    {
      "cell_type": "code",
      "source": [
        "!wget https://raw.githubusercontent.com/lazyprogrammer/machine_learning_examples/master/nlp_class/all_book_titles.txt"
      ],
      "metadata": {
        "colab": {
          "base_uri": "https://localhost:8080/"
        },
        "id": "ZE24hTVwL5xs",
        "outputId": "53592984-5fa4-4ac6-f6e1-a40922a25ff3"
      },
      "execution_count": 6,
      "outputs": [
        {
          "output_type": "stream",
          "name": "stdout",
          "text": [
            "--2022-05-10 08:57:18--  https://raw.githubusercontent.com/lazyprogrammer/machine_learning_examples/master/nlp_class/all_book_titles.txt\n",
            "Resolving raw.githubusercontent.com (raw.githubusercontent.com)... 185.199.108.133, 185.199.109.133, 185.199.110.133, ...\n",
            "Connecting to raw.githubusercontent.com (raw.githubusercontent.com)|185.199.108.133|:443... connected.\n",
            "HTTP request sent, awaiting response... 200 OK\n",
            "Length: 127992 (125K) [text/plain]\n",
            "Saving to: ‘all_book_titles.txt’\n",
            "\n",
            "\rall_book_titles.txt   0%[                    ]       0  --.-KB/s               \rall_book_titles.txt 100%[===================>] 124.99K  --.-KB/s    in 0.008s  \n",
            "\n",
            "2022-05-10 08:57:18 (15.5 MB/s) - ‘all_book_titles.txt’ saved [127992/127992]\n",
            "\n"
          ]
        }
      ]
    },
    {
      "cell_type": "code",
      "source": [
        "titles = []\n",
        "with open('all_book_titles.txt', 'r+') as f:\n",
        "  for line in f:\n",
        "    titles.append(line.rstrip())"
      ],
      "metadata": {
        "id": "bGrACDE2MAXA"
      },
      "execution_count": 59,
      "outputs": []
    },
    {
      "cell_type": "code",
      "source": [
        "titles[:20]"
      ],
      "metadata": {
        "colab": {
          "base_uri": "https://localhost:8080/"
        },
        "id": "2__ZVPeiMkYK",
        "outputId": "49b0e775-707c-4a00-b125-5df94204f09e"
      },
      "execution_count": 60,
      "outputs": [
        {
          "output_type": "execute_result",
          "data": {
            "text/plain": [
              "['Philosophy of Sex and Love A Reader',\n",
              " 'Readings in Judaism, Christianity, and Islam',\n",
              " 'Microprocessors Principles and Applications',\n",
              " 'Bernhard Edouard Fernow: Story of North American Forestry',\n",
              " 'Encyclopedia of Buddhism',\n",
              " 'Motorola Microprocessor Family: 68000, 68008, 68010, 68020, 68030, and 68040, Programming and Interfacing with Applications',\n",
              " 'American Anthem: Student Edition Modern Era 2007',\n",
              " 'How to Read Literature Like a Professor A Lively and Entertaining Guide to Reading Between the Lines',\n",
              " 'Men Are from Mars, Women Are from Venus Secrets of Great Sex, Improving Communication, Lasting Intimacy and Fulfillment, Giving and Receiving Love, Secrets of Passion, Understanding Martian',\n",
              " 'Religious Traditions of the World A Journey Through Africa, Mesoamerica, North America, Judaism, Christianity, Islam, Hinduism, Buddhism, China, an',\n",
              " \"World's Wisdom Sacred Texts of the World's Religions\",\n",
              " \"Illustrated World's Religions A Guide to Our Wisdom Traditions\",\n",
              " 'Soul of Sex Cultivating Life As an Act of Love',\n",
              " 'Thriving on Chaos Handbook for a Management Revolution',\n",
              " 'Blood Relatives',\n",
              " \"Wheelock's Latin\",\n",
              " 'Great by Choice : Uncertainty, Chaos and Luck--Why Some Thrive Despite Them All',\n",
              " 'Expanding Discourse Feminism and Art History',\n",
              " 'Introduction to General Relativity (Pure & Applied Physics)',\n",
              " 'Experiments in Microprocessors and Interfacing: Programming and Hardware']"
            ]
          },
          "metadata": {},
          "execution_count": 60
        }
      ]
    },
    {
      "cell_type": "code",
      "source": [
        "nltk.download('stopwords')\n",
        "nltk.download('punkt')\n",
        "nltk.download('wordnet')\n",
        "stopwords = nltk.corpus.stopwords.words('english')\n",
        "stopwords = stopwords + ['introduction', 'edition', 'series', 'application',\n",
        "    'approach', 'card', 'access', 'package', 'plus', 'etext',\n",
        "    'brief', 'vol', 'fundamental', 'guide', 'essential', 'printed',\n",
        "    'third', 'second', 'fourth']"
      ],
      "metadata": {
        "colab": {
          "base_uri": "https://localhost:8080/"
        },
        "id": "NwvIW8wvLRWu",
        "outputId": "09d177be-9bf4-48bf-db25-01e695198ae4"
      },
      "execution_count": 30,
      "outputs": [
        {
          "output_type": "stream",
          "name": "stdout",
          "text": [
            "[nltk_data] Downloading package stopwords to /root/nltk_data...\n",
            "[nltk_data]   Package stopwords is already up-to-date!\n",
            "[nltk_data] Downloading package punkt to /root/nltk_data...\n",
            "[nltk_data]   Package punkt is already up-to-date!\n",
            "[nltk_data] Downloading package wordnet to /root/nltk_data...\n",
            "[nltk_data]   Unzipping corpora/wordnet.zip.\n"
          ]
        }
      ]
    },
    {
      "cell_type": "code",
      "source": [
        "stopwords[:20]"
      ],
      "metadata": {
        "colab": {
          "base_uri": "https://localhost:8080/"
        },
        "id": "hEtgIwRfLluU",
        "outputId": "dc417a9a-1656-4605-ff09-8c02c1b7ae3a"
      },
      "execution_count": 31,
      "outputs": [
        {
          "output_type": "execute_result",
          "data": {
            "text/plain": [
              "['i',\n",
              " 'me',\n",
              " 'my',\n",
              " 'myself',\n",
              " 'we',\n",
              " 'our',\n",
              " 'ours',\n",
              " 'ourselves',\n",
              " 'you',\n",
              " \"you're\",\n",
              " \"you've\",\n",
              " \"you'll\",\n",
              " \"you'd\",\n",
              " 'your',\n",
              " 'yours',\n",
              " 'yourself',\n",
              " 'yourselves',\n",
              " 'he',\n",
              " 'him',\n",
              " 'his']"
            ]
          },
          "metadata": {},
          "execution_count": 31
        }
      ]
    },
    {
      "cell_type": "code",
      "source": [
        "wordnet_lemmatizer = nltk.stem.WordNetLemmatizer()"
      ],
      "metadata": {
        "id": "MOwZCyIJOzRU"
      },
      "execution_count": 32,
      "outputs": []
    },
    {
      "cell_type": "code",
      "source": [
        "def my_tokenizer(sentence):\n",
        "  tokens = nltk.tokenize.word_tokenize(sentence.lower())\n",
        "  # print(tokens)\n",
        "  tokens = [wordnet_lemmatizer.lemmatize(t) for t in tokens if len(t)>2]\n",
        "  # print(tokens)\n",
        "  tokens = [t for t in tokens if (t not in stopwords) and not (any(c.isdigit() for c in t))]\n",
        "  return tokens"
      ],
      "metadata": {
        "id": "odMaGux_OQBT"
      },
      "execution_count": 102,
      "outputs": []
    },
    {
      "cell_type": "code",
      "source": [
        "my_tokenizer('Hello, My name is Esi and I am 22 in 2022')"
      ],
      "metadata": {
        "colab": {
          "base_uri": "https://localhost:8080/"
        },
        "id": "Js2OXhxcPmr8",
        "outputId": "e9868e5d-c78b-4c00-9473-1fa43133bd7d"
      },
      "execution_count": 103,
      "outputs": [
        {
          "output_type": "execute_result",
          "data": {
            "text/plain": [
              "['hello', 'name', 'esi']"
            ]
          },
          "metadata": {},
          "execution_count": 103
        }
      ]
    },
    {
      "cell_type": "code",
      "source": [
        "word2index = {}\n",
        "index2word = []\n",
        "\n",
        "current_index = 0\n",
        "\n",
        "def word_tokenizer(titles):\n",
        "  global word2index\n",
        "  global current_index\n",
        "  all_titles = []\n",
        "  all_tokens = []\n",
        "\n",
        "  for title in titles:\n",
        "    all_titles.append(title)\n",
        "    tokens = my_tokenizer(title)\n",
        "    all_tokens.append(tokens)\n",
        "\n",
        "    for token in tokens:\n",
        "      if token not in word2index:\n",
        "        word2index[token] = current_index\n",
        "        current_index += 1\n",
        "        index2word.append(token)\n",
        "  return all_titles, all_tokens"
      ],
      "metadata": {
        "id": "-_jZrvxYLpnf"
      },
      "execution_count": 124,
      "outputs": []
    },
    {
      "cell_type": "code",
      "source": [
        "def tokens2vector(tokens):\n",
        "  x = np.zeros(len(word2index))\n",
        "  for token in tokens:\n",
        "    index = word2index.get(token)\n",
        "    x[index] = 1\n",
        "  return x"
      ],
      "metadata": {
        "id": "tfrneLDfN2Ni"
      },
      "execution_count": 125,
      "outputs": []
    },
    {
      "cell_type": "code",
      "source": [
        "all_titles, all_tokens = word_tokenizer(titles)"
      ],
      "metadata": {
        "id": "w2eEsuxCZya6"
      },
      "execution_count": 126,
      "outputs": []
    },
    {
      "cell_type": "code",
      "source": [
        "all_tokens[20]"
      ],
      "metadata": {
        "colab": {
          "base_uri": "https://localhost:8080/"
        },
        "id": "7iciFv0daiJa",
        "outputId": "7dfd2db8-5486-4678-9eb3-02267420abe0"
      },
      "execution_count": 127,
      "outputs": [
        {
          "output_type": "execute_result",
          "data": {
            "text/plain": [
              "['pathophysiology', 'concept', 'health', 'care', 'professional']"
            ]
          },
          "metadata": {},
          "execution_count": 127
        }
      ]
    },
    {
      "cell_type": "code",
      "source": [
        "x = np.zeros((len(word2index), len(all_tokens)))\n",
        "index = 0\n",
        "for token in all_tokens:\n",
        "  x[:, index] = tokens2vector(token)\n",
        "  index += 1"
      ],
      "metadata": {
        "id": "3zBo02xlSBJy"
      },
      "execution_count": 135,
      "outputs": []
    },
    {
      "cell_type": "code",
      "source": [
        "x[20]"
      ],
      "metadata": {
        "colab": {
          "base_uri": "https://localhost:8080/"
        },
        "id": "FYnp8jSjaerA",
        "outputId": "420c53f8-481f-482d-b86d-2c9f25c6e1aa"
      },
      "execution_count": 136,
      "outputs": [
        {
          "output_type": "execute_result",
          "data": {
            "text/plain": [
              "array([0., 0., 0., ..., 0., 0., 0.])"
            ]
          },
          "metadata": {},
          "execution_count": 136
        }
      ]
    },
    {
      "cell_type": "code",
      "source": [
        "x.shape"
      ],
      "metadata": {
        "colab": {
          "base_uri": "https://localhost:8080/"
        },
        "id": "99-ZANOHccIk",
        "outputId": "c9ce5c98-631e-4516-f438-a42d118d2720"
      },
      "execution_count": 137,
      "outputs": [
        {
          "output_type": "execute_result",
          "data": {
            "text/plain": [
              "(2133, 2373)"
            ]
          },
          "metadata": {},
          "execution_count": 137
        }
      ]
    },
    {
      "cell_type": "code",
      "source": [
        ""
      ],
      "metadata": {
        "id": "qAumIprlchXQ"
      },
      "execution_count": null,
      "outputs": []
    }
  ]
}